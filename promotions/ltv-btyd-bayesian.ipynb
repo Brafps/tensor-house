{
 "cells": [
  {
   "cell_type": "markdown",
   "source": [
    "# Customer Lifetime Value Estimation Using a Bayesian Buy-Till-You-Die (BTYD) Model\n",
    "\n",
    "This notebooks provides a customer lifetime value (CLTV) model for non-contractual environments such as retail. \n",
    "\n",
    "### Use Case\n",
    "We assume a non-contractual environment where each customer is represented by a history of purchases (orders, transactions). Each purchase is associated with a timestamp and monetary value. Our goal is to build a model that helps to answer the following questions for an individual customer given her purchase history:\n",
    "* What the expected number of purchases for a given time horizon?\n",
    "* What is the expected average purchase value?\n",
    "* What the estimated LTV for a given time horizon?\n",
    "\n",
    "### Prototype: Approach and Data\n",
    "We assume that each customer is represented by the summary metrics (RFM metrics) that are computed based on the purchase histories for a certain time moment `t`:\n",
    "* `T` - time since the first purchase (customer age) \n",
    "* `recency` - time since the last purchase\n",
    "* `frequency` - total number of purchases\n",
    "* `monetary_value` - total of all past purchases\n",
    "\n",
    "We use a data sample with these metrics precomputed for a population of customers. This dataset is available in the `tensor-house-data` repository.\n",
    "\n",
    "The prototype includes two Bayesian models:\n",
    "* Purchase frequency model. This model predicts the likelihood of a customer being active and their transaction frequency. We use the BG/NBD model described in [1-3] which belongs to the Buy-Till-You-Die (BTYD) model family.\n",
    "* Average Order Value. This model predicts the average order value of a customer. We use the Gamma-Gamma model described in [4]. \n",
    "\n",
    "The implementation is based on [4] and includes multiple simplifications to make the prototype more readable and customizable.\n",
    "\n",
    "### Usage and Productization\n",
    "The BG/NBD and Gamma-Gamma models are commonly used for implementing enterprise-grade CLTV models, so this prototype can be used as a starting point for creating production solutions. It is recommended to test and tune the solution on a small sample and then scale. \n",
    "\n",
    "### References\n",
    "1. Fader, P. S., Hardie, B. G., & Lee, K. L. (2005). “Counting your customers” the easy way: An alternative to the Pareto/NBD model. Marketing science, 24(2), 275-284. ([pdf](http://brucehardie.com/papers/018/fader_et_al_mksc_05.pdf))\n",
    "2. Fader, P. S., Hardie, B. G., & Lee, K. L. (2008). Computing P (alive) using the BG/NBD model. ([pdf](http://www.brucehardie.com/notes/021/palive_for_BGNBD.pdf))\n",
    "3. Fader, P. S. & Hardie, B. G. (2013) Overcoming the BG/NBD Model’s #NUM! Error Problem. Research ([pdf](http://brucehardie.com/notes/027/bgnbd_num_error.pdf))\n",
    "4. Fader, P. S. & Hardie, B. G. (2013) The Gamma-Gamma Model of Monetary Value. ([pdf](https://www.brucehardie.com/notes/025/gamma_gamma.pdf))\n",
    "5. PyMC Marketing https://github.com/pymc-labs/pymc-marketing"
   ],
   "metadata": {
    "collapsed": false
   },
   "id": "38e101f175a0ef47"
  },
  {
   "cell_type": "code",
   "execution_count": 102,
   "outputs": [
    {
     "name": "stdout",
     "output_type": "stream",
     "text": [
      "12 CPUs available\n"
     ]
    }
   ],
   "source": [
    "#\n",
    "# Imports and settings\n",
    "#\n",
    "from tabulate import tabulate\n",
    "\n",
    "import numpy as np\n",
    "import pandas as pd\n",
    "\n",
    "import pymc as pm\n",
    "import pytensor.tensor as pt\n",
    "from scipy.special import hyp2f1\n",
    "\n",
    "import matplotlib.pyplot as plt\n",
    "import seaborn as sns\n",
    "\n",
    "import multiprocessing\n",
    "print(f'{multiprocessing.cpu_count()} CPUs available')\n",
    "\n",
    "#\n",
    "# Helper functions\n",
    "#\n",
    "def print_df(df, rows = 10):\n",
    "    print(tabulate(df.head(rows), headers='keys', tablefmt='psql'))\n",
    "    print(f'{len(df)} rows x {len(df.columns)} columns')"
   ],
   "metadata": {
    "collapsed": false,
    "ExecuteTime": {
     "end_time": "2024-01-22T21:36:02.668340Z",
     "start_time": "2024-01-22T21:36:02.666038Z"
    }
   },
   "id": "c6884f98b85e140f"
  },
  {
   "cell_type": "markdown",
   "source": [
    "## Data Loading\n",
    "\n",
    "The input is a collection of customer records where each record is represented by RFM metrics.  "
   ],
   "metadata": {
    "collapsed": false
   },
   "id": "cd27d1474d8ec042"
  },
  {
   "cell_type": "code",
   "execution_count": 156,
   "outputs": [
    {
     "name": "stdout",
     "output_type": "stream",
     "text": [
      "+----+---------------+-------------+-----------+-----+------------------+\n",
      "|    |   customer_id |   frequency |   recency |   T |   monetary_value |\n",
      "|----+---------------+-------------+-----------+-----+------------------|\n",
      "|  0 |         12347 |           7 |       365 | 367 |          615.714 |\n",
      "|  1 |         12348 |           4 |       283 | 358 |          449.31  |\n",
      "|  2 |         12349 |           1 |         0 |  18 |         1757.55  |\n",
      "|  3 |         12350 |           1 |         0 | 310 |          334.4   |\n",
      "|  4 |         12352 |           6 |       260 | 296 |          234.213 |\n",
      "|  5 |         12353 |           1 |         0 | 204 |           89     |\n",
      "|  6 |         12354 |           1 |         0 | 232 |         1079.4   |\n",
      "|  7 |         12355 |           1 |         0 | 214 |          459.4   |\n",
      "|  8 |         12356 |           3 |       303 | 325 |          937.143 |\n",
      "|  9 |         12357 |           1 |         0 |  33 |         6207.67  |\n",
      "+----+---------------+-------------+-----------+-----+------------------+\n",
      "4326 rows x 5 columns\n",
      "Number of customer without transaction: 0\n",
      "Number of customer with zero revenue: 1\n"
     ]
    }
   ],
   "source": [
    "#\n",
    "# Recency, frequency, and T are in days\n",
    "#\n",
    "rfm_df = pd.read_csv('../../tensor-house-data/promotions/online-retail-rfm/online_retail_rmf.csv.zip')\n",
    "print_df(rfm_df)\n",
    "print(f\"Number of customer without transaction: {len(rfm_df[rfm_df['frequency']==0])}\")\n",
    "print(f\"Number of customer with zero revenue: {len(rfm_df[rfm_df['monetary_value']==0])}\")"
   ],
   "metadata": {
    "collapsed": false,
    "ExecuteTime": {
     "end_time": "2024-01-23T15:07:55.568992Z",
     "start_time": "2024-01-23T15:07:55.553121Z"
    }
   },
   "id": "4367887232de02d3"
  },
  {
   "cell_type": "markdown",
   "source": [
    "## Step 1: Purchase Frequency Model\n",
    "\n",
    "In this section, we specify and fit the BG/NBD model. We also show how it can be used to forecast the expected number of purchases for specific customers or RFM cohorts."
   ],
   "metadata": {
    "collapsed": false
   },
   "id": "f1e4430b766a6835"
  },
  {
   "cell_type": "code",
   "execution_count": 150,
   "outputs": [
    {
     "name": "stderr",
     "output_type": "stream",
     "text": [
      "Auto-assigning NUTS sampler...\n",
      "Initializing NUTS using jitter+adapt_diag...\n",
      "Multiprocess sampling (4 chains in 4 jobs)\n",
      "NUTS: [a, b, alpha, r]\n",
      "WARNING (pytensor.tensor.blas): Using NumPy C-API based implementation for BLAS functions.\n",
      "WARNING (pytensor.tensor.blas): Using NumPy C-API based implementation for BLAS functions.\n",
      "WARNING (pytensor.tensor.blas): Using NumPy C-API based implementation for BLAS functions.\n",
      "WARNING (pytensor.tensor.blas): Using NumPy C-API based implementation for BLAS functions.\n"
     ]
    },
    {
     "data": {
      "text/plain": "<IPython.core.display.HTML object>",
      "text/html": "\n<style>\n    /* Turns off some styling */\n    progress {\n        /* gets rid of default border in Firefox and Opera. */\n        border: none;\n        /* Needs to be in here for Safari polyfill so background images work as expected. */\n        background-size: auto;\n    }\n    progress:not([value]), progress:not([value])::-webkit-progress-bar {\n        background: repeating-linear-gradient(45deg, #7e7e7e, #7e7e7e 10px, #5c5c5c 10px, #5c5c5c 20px);\n    }\n    .progress-bar-interrupted, .progress-bar-interrupted::-webkit-progress-bar {\n        background: #F44336;\n    }\n</style>\n"
     },
     "metadata": {},
     "output_type": "display_data"
    },
    {
     "data": {
      "text/plain": "<IPython.core.display.HTML object>",
      "text/html": "\n    <div>\n      <progress value='0' class='' max='8000' style='width:300px; height:20px; vertical-align: middle;'></progress>\n      \n    </div>\n    "
     },
     "metadata": {},
     "output_type": "display_data"
    },
    {
     "name": "stderr",
     "output_type": "stream",
     "text": [
      "Sampling 4 chains for 1_000 tune and 1_000 draw iterations (4_000 + 4_000 draws total) took 48 seconds.\n"
     ]
    }
   ],
   "source": [
    "#\n",
    "# Specify and fit the model\n",
    "#\n",
    "def build_bg_nbd_model(data: pd.DataFrame):\n",
    "    frequency = data[\"frequency\"]\n",
    "    recency = data[\"recency\"]\n",
    "    T = data[\"T\"]\n",
    "    coords = {\"customer_id\": data[\"customer_id\"]}\n",
    "    \n",
    "    # Setting priors\n",
    "    a_prior = pm.HalfNormal.dist(sigma=10)\n",
    "    b_prior = pm.HalfNormal.dist(sigma=10)\n",
    "    alpha_prior = pm.HalfNormal.dist(sigma=10)\n",
    "    r_prior = pm.HalfNormal.dist(sigma=10)\n",
    "    \n",
    "    with pm.Model(coords=coords) as model:\n",
    "            a = model.register_rv(a_prior, name=\"a\")\n",
    "            b = model.register_rv(b_prior, name=\"b\")\n",
    "            alpha = model.register_rv(alpha_prior, name=\"alpha\")\n",
    "            r = model.register_rv(r_prior, name=\"r\")\n",
    "\n",
    "            def logp(t_x, x, a, b, r, alpha, T):\n",
    "                # The log-likelihood expression here aligns with expression (4) from [3]\n",
    "                x_non_zero = x > 0\n",
    "\n",
    "                # Refactored for numerical error\n",
    "                d1 = (\n",
    "                    pt.gammaln(r + x)\n",
    "                    - pt.gammaln(r)\n",
    "                    + pt.gammaln(a + b)\n",
    "                    + pt.gammaln(b + x)\n",
    "                    - pt.gammaln(b)\n",
    "                    - pt.gammaln(a + b + x)\n",
    "                )\n",
    "\n",
    "                d2 = r * pt.log(alpha) - (r + x) * pt.log(alpha + t_x)\n",
    "                c3 = ((alpha + t_x) / (alpha + T)) ** (r + x)\n",
    "                c4 = a / (b + x - 1)\n",
    "\n",
    "                logp = d1 + d2 + pt.log(c3 + pt.switch(x_non_zero, c4, 0))\n",
    "\n",
    "                return logp\n",
    "\n",
    "            pm.Potential(\n",
    "                \"likelihood\",\n",
    "                logp(\n",
    "                    x=frequency,\n",
    "                    t_x=recency,\n",
    "                    a=a,\n",
    "                    b=b,\n",
    "                    alpha=alpha,\n",
    "                    r=r,\n",
    "                    T=T,\n",
    "                ),\n",
    "            )\n",
    "    return model\n",
    "            \n",
    "model_purchase_freq = build_bg_nbd_model(rfm_df)\n",
    "idata_purchase_freq = pm.sample(model=model_purchase_freq, chains=4, cores=4)"
   ],
   "metadata": {
    "collapsed": false,
    "ExecuteTime": {
     "end_time": "2024-01-23T15:03:43.370087Z",
     "start_time": "2024-01-23T15:02:31.833625Z"
    }
   },
   "id": "c0002a79bf5a5fe8"
  },
  {
   "cell_type": "code",
   "execution_count": 164,
   "outputs": [
    {
     "data": {
      "text/plain": "<Figure size 900x800 with 2 Axes>",
      "image/png": "[encoded data removed]"
     },
     "metadata": {},
     "output_type": "display_data"
    }
   ],
   "source": [
    "#\n",
    "# Estimate the expected number of future purchases for \n",
    "# an individual customer in the time interval of length (T, T + t]\n",
    "# The closed form solution for this equation is available as (10) from [1]\n",
    "#\n",
    "def expected_num_purchases(t, frequency, recency, T, idata):\n",
    "    trace = idata.posterior\n",
    "    a, b, alpha, r = trace[\"a\"], trace[\"b\"], trace[\"alpha\"], trace[\"r\"]\n",
    "    \n",
    "    numerator = 1 - ((alpha + T) / (alpha + T + t)) ** (r + frequency) * hyp2f1(\n",
    "            r + frequency,\n",
    "            b + frequency,\n",
    "            a + b + frequency - 1,\n",
    "            t / (alpha + T + t),\n",
    "    )\n",
    "    numerator *= (a + b + frequency - 1) / (a - 1)\n",
    "    denominator = 1 + (frequency > 0) * (a / (b + frequency - 1)) * (\n",
    "        (alpha + T) / (alpha + recency)\n",
    "    ) ** (r + frequency)\n",
    "\n",
    "    return (numerator / denominator).transpose(\n",
    "        \"chain\", \"draw\", missing_dims=\"ignore\"\n",
    "    )\n",
    "\n",
    "#\n",
    "# Visualize the expected number of purchase for frequency x recency cohorts\n",
    "#\n",
    "t = 30 # one month time horizon\n",
    "\n",
    "mesh_steps = 20\n",
    "max_recency = rfm_df['recency'].max().astype(int)\n",
    "max_frequency = rfm_df['frequency'].max().astype(int)\n",
    "\n",
    "recency_mesh = np.arange(max_recency, step=int(max_recency/mesh_steps))\n",
    "frequency_mesh = np.arange(max_frequency, step=int(max_frequency/mesh_steps))\n",
    "z = np.zeros([len(recency_mesh), len(frequency_mesh)])\n",
    "for i, recency in enumerate(recency_mesh):\n",
    "    for j, frequency in enumerate(frequency_mesh):\n",
    "        z[i, j] = (\n",
    "            expected_num_purchases(\n",
    "                t=t,\n",
    "                frequency=frequency,\n",
    "                recency=recency,\n",
    "                T=max_recency,              # we assume that all customers made the first transaction -max_recency steps ago\n",
    "                idata=idata_purchase_freq\n",
    "            ).mean((\"draw\", \"chain\")).item()\n",
    "        )\n",
    "\n",
    "_, ax = plt.subplots(1, 1, figsize=(9, 8))\n",
    "pcm = sns.heatmap(pd.DataFrame(z, index=recency_mesh, columns=frequency_mesh), cmap='viridis')\n",
    "ax.set(\n",
    "        xlabel=\"Customer's Historical Frequency\",\n",
    "        ylabel=\"Customer's Recency\",\n",
    "        title=f\"Expected Number of Future Purchases for {t} Units of Time\"\n",
    ");"
   ],
   "metadata": {
    "collapsed": false,
    "ExecuteTime": {
     "end_time": "2024-01-23T15:42:50.344381Z",
     "start_time": "2024-01-23T15:42:44.471160Z"
    }
   },
   "id": "60f9466585f4cb8b"
  },
  {
   "cell_type": "markdown",
   "source": [
    "## Step 2: Average Order Value Model\n",
    "\n",
    "In this section, we specify and fit the Gamma-Gamma model for estimating the average expected purchase value for a given customer."
   ],
   "metadata": {
    "collapsed": false
   },
   "id": "33821597b2054b6f"
  },
  {
   "cell_type": "code",
   "execution_count": 165,
   "outputs": [
    {
     "name": "stderr",
     "output_type": "stream",
     "text": [
      "Auto-assigning NUTS sampler...\n",
      "Initializing NUTS using jitter+adapt_diag...\n",
      "Multiprocess sampling (4 chains in 4 jobs)\n",
      "NUTS: [p, q, v]\n",
      "WARNING (pytensor.tensor.blas): Using NumPy C-API based implementation for BLAS functions.\n",
      "WARNING (pytensor.tensor.blas): Using NumPy C-API based implementation for BLAS functions.\n",
      "WARNING (pytensor.tensor.blas): Using NumPy C-API based implementation for BLAS functions.\n",
      "WARNING (pytensor.tensor.blas): Using NumPy C-API based implementation for BLAS functions.\n"
     ]
    },
    {
     "data": {
      "text/plain": "<IPython.core.display.HTML object>",
      "text/html": "\n<style>\n    /* Turns off some styling */\n    progress {\n        /* gets rid of default border in Firefox and Opera. */\n        border: none;\n        /* Needs to be in here for Safari polyfill so background images work as expected. */\n        background-size: auto;\n    }\n    progress:not([value]), progress:not([value])::-webkit-progress-bar {\n        background: repeating-linear-gradient(45deg, #7e7e7e, #7e7e7e 10px, #5c5c5c 10px, #5c5c5c 20px);\n    }\n    .progress-bar-interrupted, .progress-bar-interrupted::-webkit-progress-bar {\n        background: #F44336;\n    }\n</style>\n"
     },
     "metadata": {},
     "output_type": "display_data"
    },
    {
     "data": {
      "text/plain": "<IPython.core.display.HTML object>",
      "text/html": "\n    <div>\n      <progress value='0' class='' max='8000' style='width:300px; height:20px; vertical-align: middle;'></progress>\n      \n    </div>\n    "
     },
     "metadata": {},
     "output_type": "display_data"
    },
    {
     "name": "stderr",
     "output_type": "stream",
     "text": [
      "Sampling 4 chains for 1_000 tune and 1_000 draw iterations (4_000 + 4_000 draws total) took 33 seconds.\n"
     ]
    }
   ],
   "source": [
    "def build_gamma_gamma_model(data: pd.DataFrame):\n",
    "    coords = {\"customer_id\": data[\"customer_id\"]}\n",
    "    \n",
    "    z_mean = pt.as_tensor_variable(data[\"monetary_value\"])\n",
    "    x = pt.as_tensor_variable(data[\"frequency\"]) \n",
    "        \n",
    "    p_prior = pm.HalfFlat.dist()\n",
    "    q_prior = pm.HalfFlat.dist()\n",
    "    v_prior = pm.HalfFlat.dist()\n",
    "        \n",
    "    with pm.Model(coords=coords) as model:\n",
    "        p = model.register_rv(p_prior, name=\"p\")\n",
    "        q = model.register_rv(q_prior, name=\"q\")\n",
    "        v = model.register_rv(v_prior, name=\"v\")\n",
    "            \n",
    "        # Likelihood for mean_spend, marginalizing over nu\n",
    "        # Eq 1a from [1], p.2\n",
    "        pm.Potential(\n",
    "            \"likelihood\",\n",
    "            (\n",
    "                pt.gammaln(p * x + q)\n",
    "                - pt.gammaln(p * x)\n",
    "                - pt.gammaln(q)\n",
    "                + q * pt.log(v)\n",
    "                + (p * x - 1) * pt.log(z_mean)\n",
    "                + (p * x) * pt.log(x)\n",
    "                - (p * x + q) * pt.log(x * z_mean + v)\n",
    "            ),\n",
    "        )\n",
    "            \n",
    "    return model\n",
    "\n",
    "model_order_value = build_gamma_gamma_model(rfm_df.query('monetary_value > 0 & frequency > 0'))\n",
    "idata_order_value = pm.sample(model=model_order_value, chains=4, cores=4)"
   ],
   "metadata": {
    "collapsed": false,
    "ExecuteTime": {
     "end_time": "2024-01-23T15:45:13.234494Z",
     "start_time": "2024-01-23T15:44:35.964118Z"
    }
   },
   "id": "22998051144d7108"
  },
  {
   "cell_type": "code",
   "execution_count": 157,
   "outputs": [],
   "source": [
    "#\n",
    "# Estimate the expected purchase value per customer (Eq 5 from [1], p.3)\n",
    "#\n",
    "def expected_customer_spend(mean_transaction_value: float, frequency: int, idata):\n",
    "    trace = idata.posterior\n",
    "    p, q, v = trace[\"p\"], trace[\"q\"], trace[\"v\"]\n",
    "\n",
    "    individual_weight = p * frequency / (p * frequency + q - 1)\n",
    "    population_mean = v * p / (q - 1)\n",
    "    return (\n",
    "        1 - individual_weight\n",
    "    ) * population_mean + individual_weight * mean_transaction_value"
   ],
   "metadata": {
    "collapsed": false,
    "ExecuteTime": {
     "end_time": "2024-01-23T15:08:02.976172Z",
     "start_time": "2024-01-23T15:08:02.955912Z"
    }
   },
   "id": "cfacbbb3dd7d8c4b"
  },
  {
   "cell_type": "markdown",
   "source": [
    "## Step 3: Combining Two Models into LTV Estimates  \n",
    "\n",
    "In this section, we compute the CLTV values for all customers in the sample. This is a basic implementation that can be enhanced with discounted cash flow and other adjustments."
   ],
   "metadata": {
    "collapsed": false
   },
   "id": "92c37096f2bbbfa0"
  },
  {
   "cell_type": "code",
   "execution_count": 163,
   "outputs": [
    {
     "name": "stdout",
     "output_type": "stream",
     "text": [
      "+----+---------------+-------------+-----------+-----+------------------+----------+\n",
      "|    |   customer_id |   frequency |   recency |   T |   monetary_value |     cltv |\n",
      "|----+---------------+-------------+-----------+-----+------------------+----------|\n",
      "|  0 |         12347 |           7 |       365 | 367 |          615.714 | 24975.8  |\n",
      "|  1 |         12348 |           4 |       283 | 358 |          449.31  | 12096.5  |\n",
      "|  2 |         12349 |           1 |         0 |  18 |         1757.55  |  7929.35 |\n",
      "|  3 |         12350 |           1 |         0 | 310 |          334.4   |  2559.85 |\n",
      "|  4 |         12352 |           6 |       260 | 296 |          234.213 |  9509.02 |\n",
      "|  5 |         12353 |           1 |         0 | 204 |           89     |  1633.97 |\n",
      "|  6 |         12354 |           1 |         0 | 232 |         1079.4   |  5370.71 |\n",
      "|  7 |         12355 |           1 |         0 | 214 |          459.4   |  3031.47 |\n",
      "|  8 |         12356 |           3 |       303 | 325 |          937.143 | 18401.4  |\n",
      "|  9 |         12357 |           1 |         0 |  33 |         6207.67  | 24719.5  |\n",
      "+----+---------------+-------------+-----------+-----+------------------+----------+\n",
      "4326 rows x 6 columns\n"
     ]
    }
   ],
   "source": [
    "def customer_lifetime_value(frequency, \n",
    "                            recency, \n",
    "                            monetary_value, \n",
    "                            T, \n",
    "                            time_horizon_days,\n",
    "                            idata_purchase_freq,\n",
    "                            idata_order_value):\n",
    "\n",
    "    adjusted_monetary_value = expected_customer_spend(\n",
    "        mean_transaction_value=monetary_value,\n",
    "        frequency=frequency,\n",
    "        idata=idata_order_value\n",
    "    ).mean((\"draw\", \"chain\")).item()\n",
    "    \n",
    "    n_purchases = expected_num_purchases(\n",
    "        t=time_horizon_days,\n",
    "        frequency=frequency,\n",
    "        recency=recency,\n",
    "        T=T,\n",
    "        idata=idata_purchase_freq\n",
    "    ).mean((\"draw\", \"chain\")).item()\n",
    "    \n",
    "    cltv = adjusted_monetary_value * n_purchases\n",
    "    \n",
    "    return cltv\n",
    "\n",
    "rfm_df['cltv'] = rfm_df.apply(lambda x: (\n",
    "    customer_lifetime_value(x['frequency'], x['recency'], x['monetary_value'], 10, 365, idata_purchase_freq, idata_order_value)\n",
    "), axis=1)\n",
    "\n",
    "print_df(rfm_df)"
   ],
   "metadata": {
    "collapsed": false,
    "ExecuteTime": {
     "end_time": "2024-01-23T15:40:10.161895Z",
     "start_time": "2024-01-23T15:39:05.966415Z"
    }
   },
   "id": "41c6c3a983a93e5f"
  }
 ],
 "metadata": {
  "kernelspec": {
   "name": "py310",
   "language": "python",
   "display_name": "py310"
  },
  "language_info": {
   "codemirror_mode": {
    "name": "ipython",
    "version": 2
   },
   "file_extension": ".py",
   "mimetype": "text/x-python",
   "name": "python",
   "nbconvert_exporter": "python",
   "pygments_lexer": "ipython2",
   "version": "2.7.6"
  }
 },
 "nbformat": 4,
 "nbformat_minor": 5
}
